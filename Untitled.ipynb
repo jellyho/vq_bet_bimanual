{
 "cells": [
  {
   "cell_type": "code",
   "execution_count": 1,
   "id": "7e565384-544d-4723-ba23-c7b7bd69eba1",
   "metadata": {},
   "outputs": [],
   "source": [
    "import os, glob\n",
    "folder_path = '/home/jellyho/clean'\n",
    "folder_path = '/home/jellyho/Bimanual_Imitation/vqbet_datasets_for_release/pusht'"
   ]
  },
  {
   "cell_type": "code",
   "execution_count": 2,
   "id": "c119b972-2fcb-436f-9457-eff3986a6b68",
   "metadata": {},
   "outputs": [],
   "source": [
    "from examples.dataset import BimanualTrajectoryDataset, get_clean_train_val, get_pusht_train_val"
   ]
  },
  {
   "cell_type": "code",
   "execution_count": 9,
   "id": "9b4e7aaf-acb2-44ef-9795-10217e7c7599",
   "metadata": {},
   "outputs": [
    {
     "name": "stdout",
     "output_type": "stream",
     "text": [
      "Dataset Loading\n"
     ]
    },
    {
     "name": "stderr",
     "output_type": "stream",
     "text": [
      "100%|███████████████████████████████████████████████████████████████████████████████████████████████████████████████████████████████████████| 10/10 [00:04<00:00,  2.47it/s]\n"
     ]
    }
   ],
   "source": [
    "train, val = get_pusht_train_val(folder_path)"
   ]
  },
  {
   "cell_type": "code",
   "execution_count": 11,
   "id": "e87f8f3e-31aa-46dd-9bd2-7914fec19af2",
   "metadata": {},
   "outputs": [
    {
     "ename": "ValueError",
     "evalue": "not enough values to unpack (expected 3, got 2)",
     "output_type": "error",
     "traceback": [
      "\u001b[0;31m---------------------------------------------------------------------------\u001b[0m",
      "\u001b[0;31mValueError\u001b[0m                                Traceback (most recent call last)",
      "Cell \u001b[0;32mIn[11], line 2\u001b[0m\n\u001b[1;32m      1\u001b[0m \u001b[38;5;28;01mfor\u001b[39;00m d \u001b[38;5;129;01min\u001b[39;00m train:\n\u001b[0;32m----> 2\u001b[0m     obs, act, goal \u001b[38;5;241m=\u001b[39m d\n\u001b[1;32m      3\u001b[0m     \u001b[38;5;28;01mbreak\u001b[39;00m\n",
      "\u001b[0;31mValueError\u001b[0m: not enough values to unpack (expected 3, got 2)"
     ]
    }
   ],
   "source": [
    "for d in train:\n",
    "    obs, act, goal = d\n",
    "    break"
   ]
  },
  {
   "cell_type": "code",
   "execution_count": null,
   "id": "e5919d6c-d640-410b-adda-ea1da2c018b4",
   "metadata": {},
   "outputs": [],
   "source": []
  }
 ],
 "metadata": {
  "kernelspec": {
   "display_name": "Python 3 (ipykernel)",
   "language": "python",
   "name": "python3"
  },
  "language_info": {
   "codemirror_mode": {
    "name": "ipython",
    "version": 3
   },
   "file_extension": ".py",
   "mimetype": "text/x-python",
   "name": "python",
   "nbconvert_exporter": "python",
   "pygments_lexer": "ipython3",
   "version": "3.9.19"
  }
 },
 "nbformat": 4,
 "nbformat_minor": 5
}
